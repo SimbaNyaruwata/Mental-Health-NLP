{
 "cells": [
  {
   "cell_type": "code",
   "execution_count": 9,
   "metadata": {},
   "outputs": [],
   "source": [
    "!python -m venv new_env "
   ]
  },
  {
   "cell_type": "markdown",
   "metadata": {},
   "source": [
    "Importing Libraries"
   ]
  },
  {
   "cell_type": "code",
   "execution_count": 10,
   "metadata": {},
   "outputs": [
    {
     "name": "stdout",
     "output_type": "stream",
     "text": [
      "Requirement already satisfied: imblearn in c:\\users\\tapiw\\appdata\\local\\programs\\python\\python310\\lib\\site-packages (0.0)\n",
      "Requirement already satisfied: imbalanced-learn in c:\\users\\tapiw\\appdata\\local\\programs\\python\\python310\\lib\\site-packages (from imblearn) (0.12.3)\n",
      "Requirement already satisfied: numpy>=1.17.3 in c:\\users\\tapiw\\appdata\\local\\programs\\python\\python310\\lib\\site-packages (from imbalanced-learn->imblearn) (1.26.4)\n",
      "Requirement already satisfied: scipy>=1.5.0 in c:\\users\\tapiw\\appdata\\local\\programs\\python\\python310\\lib\\site-packages (from imbalanced-learn->imblearn) (1.14.0)\n",
      "Requirement already satisfied: scikit-learn>=1.0.2 in c:\\users\\tapiw\\appdata\\local\\programs\\python\\python310\\lib\\site-packages (from imbalanced-learn->imblearn) (1.5.1)\n",
      "Requirement already satisfied: joblib>=1.1.1 in c:\\users\\tapiw\\appdata\\local\\programs\\python\\python310\\lib\\site-packages (from imbalanced-learn->imblearn) (1.4.2)\n",
      "Requirement already satisfied: threadpoolctl>=2.0.0 in c:\\users\\tapiw\\appdata\\local\\programs\\python\\python310\\lib\\site-packages (from imbalanced-learn->imblearn) (3.5.0)\n",
      "Note: you may need to restart the kernel to use updated packages.\n"
     ]
    },
    {
     "name": "stderr",
     "output_type": "stream",
     "text": [
      "WARNING: Error parsing dependencies of tensorflow: [Errno 2] No such file or directory: 'c:\\\\users\\\\tapiw\\\\appdata\\\\local\\\\programs\\\\python\\\\python310\\\\lib\\\\site-packages\\\\tensorflow-2.17.0.dist-info\\\\METADATA'\n"
     ]
    }
   ],
   "source": [
    "pip install imblearn"
   ]
  },
  {
   "cell_type": "code",
   "execution_count": 11,
   "metadata": {},
   "outputs": [],
   "source": [
    "import pandas as pd\n",
    "from sklearn.utils import resample\n",
    "import matplotlib.pyplot as plt\n",
    "import seaborn as sns\n",
    "from sklearn.preprocessing import LabelEncoder\n",
    "import string\n",
    "from sklearn.model_selection import train_test_split\n",
    "from imblearn.under_sampling import RandomUnderSampler\n",
    "from sklearn.metrics import classification_report\n",
    "import numpy as np\n",
    "from sklearn.svm import SVC\n",
    "from sklearn.preprocessing import LabelEncoder\n",
    "from sklearn.pipeline import Pipeline\n",
    "from sklearn.metrics import accuracy_score, classification_report, confusion_matrix\n",
    "from sklearn.base import BaseEstimator, TransformerMixin\n",
    "from sklearn.metrics import ConfusionMatrixDisplay"
   ]
  },
  {
   "cell_type": "markdown",
   "metadata": {},
   "source": [
    "Data Preprocessing"
   ]
  },
  {
   "cell_type": "code",
   "execution_count": 12,
   "metadata": {},
   "outputs": [],
   "source": [
    "df=pd.read_csv(\"C:/Users/tapiw/Documents/Projects/Sharon/Mental Health NLP/Combined_Data.csv\")"
   ]
  },
  {
   "cell_type": "code",
   "execution_count": 13,
   "metadata": {},
   "outputs": [
    {
     "data": {
      "text/html": [
       "<div>\n",
       "<style scoped>\n",
       "    .dataframe tbody tr th:only-of-type {\n",
       "        vertical-align: middle;\n",
       "    }\n",
       "\n",
       "    .dataframe tbody tr th {\n",
       "        vertical-align: top;\n",
       "    }\n",
       "\n",
       "    .dataframe thead th {\n",
       "        text-align: right;\n",
       "    }\n",
       "</style>\n",
       "<table border=\"1\" class=\"dataframe\">\n",
       "  <thead>\n",
       "    <tr style=\"text-align: right;\">\n",
       "      <th></th>\n",
       "      <th>Unnamed: 0</th>\n",
       "      <th>statement</th>\n",
       "      <th>status</th>\n",
       "    </tr>\n",
       "  </thead>\n",
       "  <tbody>\n",
       "    <tr>\n",
       "      <th>0</th>\n",
       "      <td>0</td>\n",
       "      <td>oh my gosh</td>\n",
       "      <td>Anxiety</td>\n",
       "    </tr>\n",
       "    <tr>\n",
       "      <th>1</th>\n",
       "      <td>1</td>\n",
       "      <td>trouble sleeping, confused mind, restless hear...</td>\n",
       "      <td>Anxiety</td>\n",
       "    </tr>\n",
       "    <tr>\n",
       "      <th>2</th>\n",
       "      <td>2</td>\n",
       "      <td>All wrong, back off dear, forward doubt. Stay ...</td>\n",
       "      <td>Anxiety</td>\n",
       "    </tr>\n",
       "    <tr>\n",
       "      <th>3</th>\n",
       "      <td>3</td>\n",
       "      <td>I've shifted my focus to something else but I'...</td>\n",
       "      <td>Anxiety</td>\n",
       "    </tr>\n",
       "    <tr>\n",
       "      <th>4</th>\n",
       "      <td>4</td>\n",
       "      <td>I'm restless and restless, it's been a month n...</td>\n",
       "      <td>Anxiety</td>\n",
       "    </tr>\n",
       "  </tbody>\n",
       "</table>\n",
       "</div>"
      ],
      "text/plain": [
       "   Unnamed: 0                                          statement   status\n",
       "0           0                                         oh my gosh  Anxiety\n",
       "1           1  trouble sleeping, confused mind, restless hear...  Anxiety\n",
       "2           2  All wrong, back off dear, forward doubt. Stay ...  Anxiety\n",
       "3           3  I've shifted my focus to something else but I'...  Anxiety\n",
       "4           4  I'm restless and restless, it's been a month n...  Anxiety"
      ]
     },
     "execution_count": 13,
     "metadata": {},
     "output_type": "execute_result"
    }
   ],
   "source": [
    "df.head()"
   ]
  },
  {
   "cell_type": "code",
   "execution_count": 14,
   "metadata": {},
   "outputs": [
    {
     "data": {
      "text/html": [
       "<div>\n",
       "<style scoped>\n",
       "    .dataframe tbody tr th:only-of-type {\n",
       "        vertical-align: middle;\n",
       "    }\n",
       "\n",
       "    .dataframe tbody tr th {\n",
       "        vertical-align: top;\n",
       "    }\n",
       "\n",
       "    .dataframe thead tr th {\n",
       "        text-align: left;\n",
       "    }\n",
       "\n",
       "    .dataframe thead tr:last-of-type th {\n",
       "        text-align: right;\n",
       "    }\n",
       "</style>\n",
       "<table border=\"1\" class=\"dataframe\">\n",
       "  <thead>\n",
       "    <tr>\n",
       "      <th></th>\n",
       "      <th colspan=\"8\" halign=\"left\">Unnamed: 0</th>\n",
       "    </tr>\n",
       "    <tr>\n",
       "      <th></th>\n",
       "      <th>count</th>\n",
       "      <th>mean</th>\n",
       "      <th>std</th>\n",
       "      <th>min</th>\n",
       "      <th>25%</th>\n",
       "      <th>50%</th>\n",
       "      <th>75%</th>\n",
       "      <th>max</th>\n",
       "    </tr>\n",
       "    <tr>\n",
       "      <th>status</th>\n",
       "      <th></th>\n",
       "      <th></th>\n",
       "      <th></th>\n",
       "      <th></th>\n",
       "      <th></th>\n",
       "      <th></th>\n",
       "      <th></th>\n",
       "      <th></th>\n",
       "    </tr>\n",
       "  </thead>\n",
       "  <tbody>\n",
       "    <tr>\n",
       "      <th>Anxiety</th>\n",
       "      <td>3888.0</td>\n",
       "      <td>33747.340535</td>\n",
       "      <td>17829.620748</td>\n",
       "      <td>0.0</td>\n",
       "      <td>34147.75</td>\n",
       "      <td>35119.5</td>\n",
       "      <td>52070.25</td>\n",
       "      <td>53042.0</td>\n",
       "    </tr>\n",
       "    <tr>\n",
       "      <th>Bipolar</th>\n",
       "      <td>2877.0</td>\n",
       "      <td>47813.527633</td>\n",
       "      <td>1930.643638</td>\n",
       "      <td>45394.0</td>\n",
       "      <td>46113.00</td>\n",
       "      <td>46832.0</td>\n",
       "      <td>49934.00</td>\n",
       "      <td>50653.0</td>\n",
       "    </tr>\n",
       "    <tr>\n",
       "      <th>Depression</th>\n",
       "      <td>15404.0</td>\n",
       "      <td>25155.582316</td>\n",
       "      <td>12527.152951</td>\n",
       "      <td>6982.0</td>\n",
       "      <td>14771.50</td>\n",
       "      <td>22053.5</td>\n",
       "      <td>38844.25</td>\n",
       "      <td>48287.0</td>\n",
       "    </tr>\n",
       "    <tr>\n",
       "      <th>Normal</th>\n",
       "      <td>16351.0</td>\n",
       "      <td>24046.638554</td>\n",
       "      <td>16583.557735</td>\n",
       "      <td>733.0</td>\n",
       "      <td>4820.50</td>\n",
       "      <td>30760.0</td>\n",
       "      <td>37371.50</td>\n",
       "      <td>45393.0</td>\n",
       "    </tr>\n",
       "    <tr>\n",
       "      <th>Personality disorder</th>\n",
       "      <td>1201.0</td>\n",
       "      <td>51254.000000</td>\n",
       "      <td>346.843144</td>\n",
       "      <td>50654.0</td>\n",
       "      <td>50954.00</td>\n",
       "      <td>51254.0</td>\n",
       "      <td>51554.00</td>\n",
       "      <td>51854.0</td>\n",
       "    </tr>\n",
       "    <tr>\n",
       "      <th>Stress</th>\n",
       "      <td>2669.0</td>\n",
       "      <td>37664.617834</td>\n",
       "      <td>10013.266598</td>\n",
       "      <td>27346.0</td>\n",
       "      <td>28618.00</td>\n",
       "      <td>29893.0</td>\n",
       "      <td>48801.00</td>\n",
       "      <td>49468.0</td>\n",
       "    </tr>\n",
       "    <tr>\n",
       "      <th>Suicidal</th>\n",
       "      <td>10653.0</td>\n",
       "      <td>18325.178635</td>\n",
       "      <td>7448.871777</td>\n",
       "      <td>6985.0</td>\n",
       "      <td>12277.00</td>\n",
       "      <td>17692.0</td>\n",
       "      <td>23332.00</td>\n",
       "      <td>37657.0</td>\n",
       "    </tr>\n",
       "  </tbody>\n",
       "</table>\n",
       "</div>"
      ],
      "text/plain": [
       "                     Unnamed: 0                                       \\\n",
       "                          count          mean           std      min   \n",
       "status                                                                 \n",
       "Anxiety                  3888.0  33747.340535  17829.620748      0.0   \n",
       "Bipolar                  2877.0  47813.527633   1930.643638  45394.0   \n",
       "Depression              15404.0  25155.582316  12527.152951   6982.0   \n",
       "Normal                  16351.0  24046.638554  16583.557735    733.0   \n",
       "Personality disorder     1201.0  51254.000000    346.843144  50654.0   \n",
       "Stress                   2669.0  37664.617834  10013.266598  27346.0   \n",
       "Suicidal                10653.0  18325.178635   7448.871777   6985.0   \n",
       "\n",
       "                                                            \n",
       "                           25%      50%       75%      max  \n",
       "status                                                      \n",
       "Anxiety               34147.75  35119.5  52070.25  53042.0  \n",
       "Bipolar               46113.00  46832.0  49934.00  50653.0  \n",
       "Depression            14771.50  22053.5  38844.25  48287.0  \n",
       "Normal                 4820.50  30760.0  37371.50  45393.0  \n",
       "Personality disorder  50954.00  51254.0  51554.00  51854.0  \n",
       "Stress                28618.00  29893.0  48801.00  49468.0  \n",
       "Suicidal              12277.00  17692.0  23332.00  37657.0  "
      ]
     },
     "execution_count": 14,
     "metadata": {},
     "output_type": "execute_result"
    }
   ],
   "source": [
    "df.groupby('status').describe()"
   ]
  },
  {
   "cell_type": "code",
   "execution_count": 15,
   "metadata": {},
   "outputs": [
    {
     "name": "stdout",
     "output_type": "stream",
     "text": [
      "Unnamed: 0     int64\n",
      "statement     object\n",
      "status        object\n",
      "dtype: object\n"
     ]
    }
   ],
   "source": [
    "print(df.dtypes)"
   ]
  },
  {
   "cell_type": "code",
   "execution_count": 16,
   "metadata": {},
   "outputs": [],
   "source": [
    "df['statement'] = df['statement'].astype(str)"
   ]
  },
  {
   "cell_type": "markdown",
   "metadata": {},
   "source": [
    "Cleaning"
   ]
  },
  {
   "cell_type": "code",
   "execution_count": 17,
   "metadata": {},
   "outputs": [],
   "source": [
    "def clean_text(text):\n",
    "    \"\"\"Removes all punctuation and special characters, converts text to lowercase.\"\"\"\n",
    "    text = text.translate(str.maketrans('', '', string.punctuation))\n",
    "    text = ''.join(c for c in text if c.isalnum() or c.isspace())\n",
    "    return text.lower() \n",
    "\n",
    "df['cleaned_statement'] = df['statement'].apply(clean_text)"
   ]
  },
  {
   "cell_type": "markdown",
   "metadata": {},
   "source": [
    "Label Encoding"
   ]
  },
  {
   "cell_type": "code",
   "execution_count": 18,
   "metadata": {},
   "outputs": [
    {
     "name": "stdout",
     "output_type": "stream",
     "text": [
      "Anxiety: 0\n",
      "Bipolar: 1\n",
      "Depression: 2\n",
      "Normal: 3\n",
      "Personality disorder: 4\n",
      "Stress: 5\n",
      "Suicidal: 6\n"
     ]
    }
   ],
   "source": [
    "le = LabelEncoder()\n",
    "df['status_encoded'] = le.fit_transform(df['status'])\n",
    "\n",
    "for i, status in enumerate(le.classes_):\n",
    "    print(f\"{status}: {i}\")"
   ]
  },
  {
   "cell_type": "code",
   "execution_count": 19,
   "metadata": {},
   "outputs": [
    {
     "data": {
      "image/png": "[encoded data removed]",
      "text/plain": [
       "<Figure size 1000x600 with 1 Axes>"
      ]
     },
     "metadata": {},
     "output_type": "display_data"
    }
   ],
   "source": [
    "\n",
    "status_counts = df['status'].value_counts()\n",
    "\n",
    "plt.figure(figsize=(10, 6)) \n",
    "sns.barplot(x=status_counts.index, y=status_counts.values)\n",
    "plt.xlabel('Status')\n",
    "plt.ylabel('Count')\n",
    "plt.title('Distribution of Status Categories')\n",
    "plt.xticks(rotation=45)\n",
    "plt.show()"
   ]
  },
  {
   "cell_type": "code",
   "execution_count": 20,
   "metadata": {},
   "outputs": [
    {
     "data": {
      "text/html": [
       "<div>\n",
       "<style scoped>\n",
       "    .dataframe tbody tr th:only-of-type {\n",
       "        vertical-align: middle;\n",
       "    }\n",
       "\n",
       "    .dataframe tbody tr th {\n",
       "        vertical-align: top;\n",
       "    }\n",
       "\n",
       "    .dataframe thead th {\n",
       "        text-align: right;\n",
       "    }\n",
       "</style>\n",
       "<table border=\"1\" class=\"dataframe\">\n",
       "  <thead>\n",
       "    <tr style=\"text-align: right;\">\n",
       "      <th></th>\n",
       "      <th>Unnamed: 0</th>\n",
       "      <th>statement</th>\n",
       "      <th>status</th>\n",
       "      <th>cleaned_statement</th>\n",
       "      <th>status_encoded</th>\n",
       "    </tr>\n",
       "  </thead>\n",
       "  <tbody>\n",
       "    <tr>\n",
       "      <th>33704</th>\n",
       "      <td>33704</td>\n",
       "      <td>you should wet your shirt immediately.</td>\n",
       "      <td>Normal</td>\n",
       "      <td>you should wet your shirt immediately</td>\n",
       "      <td>3</td>\n",
       "    </tr>\n",
       "    <tr>\n",
       "      <th>48782</th>\n",
       "      <td>48782</td>\n",
       "      <td>impending doom I keep having to this feeling o...</td>\n",
       "      <td>Stress</td>\n",
       "      <td>impending doom i keep having to this feeling o...</td>\n",
       "      <td>5</td>\n",
       "    </tr>\n",
       "    <tr>\n",
       "      <th>8054</th>\n",
       "      <td>8054</td>\n",
       "      <td>That the odds of my existence was so slim it w...</td>\n",
       "      <td>Suicidal</td>\n",
       "      <td>that the odds of my existence was so slim it w...</td>\n",
       "      <td>6</td>\n",
       "    </tr>\n",
       "    <tr>\n",
       "      <th>47585</th>\n",
       "      <td>47585</td>\n",
       "      <td>Excuses for work, etc. I'm in a depressive epi...</td>\n",
       "      <td>Depression</td>\n",
       "      <td>excuses for work etc im in a depressive episod...</td>\n",
       "      <td>2</td>\n",
       "    </tr>\n",
       "    <tr>\n",
       "      <th>38286</th>\n",
       "      <td>38286</td>\n",
       "      <td>why cant it just fucking stop the pain is just...</td>\n",
       "      <td>Depression</td>\n",
       "      <td>why cant it just fucking stop the pain is just...</td>\n",
       "      <td>2</td>\n",
       "    </tr>\n",
       "  </tbody>\n",
       "</table>\n",
       "</div>"
      ],
      "text/plain": [
       "       Unnamed: 0                                          statement  \\\n",
       "33704       33704             you should wet your shirt immediately.   \n",
       "48782       48782  impending doom I keep having to this feeling o...   \n",
       "8054         8054  That the odds of my existence was so slim it w...   \n",
       "47585       47585  Excuses for work, etc. I'm in a depressive epi...   \n",
       "38286       38286  why cant it just fucking stop the pain is just...   \n",
       "\n",
       "           status                                  cleaned_statement  \\\n",
       "33704      Normal              you should wet your shirt immediately   \n",
       "48782      Stress  impending doom i keep having to this feeling o...   \n",
       "8054     Suicidal  that the odds of my existence was so slim it w...   \n",
       "47585  Depression  excuses for work etc im in a depressive episod...   \n",
       "38286  Depression  why cant it just fucking stop the pain is just...   \n",
       "\n",
       "       status_encoded  \n",
       "33704               3  \n",
       "48782               5  \n",
       "8054                6  \n",
       "47585               2  \n",
       "38286               2  "
      ]
     },
     "execution_count": 20,
     "metadata": {},
     "output_type": "execute_result"
    }
   ],
   "source": [
    "df.sample(5)"
   ]
  },
  {
   "cell_type": "code",
   "execution_count": 21,
   "metadata": {},
   "outputs": [
    {
     "data": {
      "text/plain": [
       "Unnamed: 0           0\n",
       "statement            0\n",
       "status               0\n",
       "cleaned_statement    0\n",
       "status_encoded       0\n",
       "dtype: int64"
      ]
     },
     "execution_count": 21,
     "metadata": {},
     "output_type": "execute_result"
    }
   ],
   "source": [
    "df.dropna(inplace=True)\n",
    "df.isnull().sum()"
   ]
  },
  {
   "cell_type": "code",
   "execution_count": 22,
   "metadata": {},
   "outputs": [],
   "source": [
    "X = df['cleaned_statement']\n",
    "y = df['status_encoded']"
   ]
  },
  {
   "cell_type": "code",
   "execution_count": 23,
   "metadata": {},
   "outputs": [
    {
     "name": "stdout",
     "output_type": "stream",
     "text": [
      "(37130,) (15913,) (37130,) (15913,)\n"
     ]
    }
   ],
   "source": [
    "X_train, X_test, y_train, y_test = train_test_split(X, y, test_size=0.30, random_state=42)\n",
    "print(X_train.shape,X_test.shape, y_train.shape,y_test.shape)"
   ]
  },
  {
   "cell_type": "markdown",
   "metadata": {},
   "source": [
    "Resampling"
   ]
  },
  {
   "cell_type": "code",
   "execution_count": 24,
   "metadata": {},
   "outputs": [
    {
     "name": "stdout",
     "output_type": "stream",
     "text": [
      "y_train\n",
      "3    11000\n",
      "2    10495\n",
      "6     8000\n",
      "0     5000\n",
      "1     3500\n",
      "5     3500\n",
      "4     2000\n",
      "Name: count, dtype: int64\n"
     ]
    }
   ],
   "source": [
    "data = pd.DataFrame({'x_train': X_train, 'y_train': y_train})\n",
    "grouped_data = data.groupby('y_train')\n",
    "\n",
    "desired_counts = {\n",
    "    0: 5000,\n",
    "    1: 3500,\n",
    "    2: 10495,\n",
    "    3: 11000,\n",
    "    4: 2000,\n",
    "    5: 3500,\n",
    "    6: 8000\n",
    "}\n",
    "\n",
    "resampled_data = pd.concat([\n",
    "    grouped_data.get_group(i).sample(n=desired_counts[i], replace=True)\n",
    "    for i in desired_counts.keys()\n",
    "])\n",
    "\n",
    "balanced_x_train = resampled_data['x_train']\n",
    "balanced_y_train = resampled_data['y_train']\n",
    "\n",
    "print(balanced_y_train.value_counts())"
   ]
  },
  {
   "cell_type": "code",
   "execution_count": 35,
   "metadata": {},
   "outputs": [
    {
     "name": "stderr",
     "output_type": "stream",
     "text": [
      "ERROR: pip's dependency resolver does not currently take into account all the packages that are installed. This behaviour is the source of the following dependency conflicts.\n",
      "streamlit 1.37.0 requires protobuf<6,>=3.20, but you have protobuf 3.19.6 which is incompatible.\n"
     ]
    }
   ],
   "source": [
    "!pip install tensorflow tensorflow-text tensorflow-hub -q --user"
   ]
  },
  {
   "cell_type": "code",
   "execution_count": 36,
   "metadata": {},
   "outputs": [
    {
     "name": "stdout",
     "output_type": "stream",
     "text": [
      "Name: tensorflow\n",
      "Version: 2.10.1\n",
      "Summary: TensorFlow is an open source machine learning framework for everyone.\n",
      "Home-page: https://www.tensorflow.org/\n",
      "Author: Google Inc.\n",
      "Author-email: packages@tensorflow.org\n",
      "License: Apache 2.0\n",
      "Location: c:\\users\\tapiw\\appdata\\roaming\\python\\python310\\site-packages\n",
      "Requires: absl-py, astunparse, flatbuffers, gast, google-pasta, grpcio, h5py, keras, keras-preprocessing, libclang, numpy, opt-einsum, packaging, protobuf, setuptools, six, tensorboard, tensorflow-estimator, tensorflow-io-gcs-filesystem, termcolor, typing-extensions, wrapt\n",
      "Required-by: tensorflow-text\n",
      "---\n",
      "Name: tensorflow-hub\n",
      "Version: 0.16.1\n",
      "Summary: TensorFlow Hub is a library to foster the publication, discovery, and consumption of reusable parts of machine learning models.\n",
      "Home-page: https://github.com/tensorflow/hub\n",
      "Author: Google LLC\n",
      "Author-email: packages@tensorflow.org\n",
      "License: Apache 2.0\n",
      "Location: c:\\users\\tapiw\\appdata\\roaming\\python\\python310\\site-packages\n",
      "Requires: numpy, protobuf, tf-keras\n",
      "Required-by: tensorflow-text\n",
      "---\n",
      "Name: tensorflow-text\n",
      "Version: 2.10.0\n",
      "Summary: TF.Text is a TensorFlow library of text related ops, modules, and subgraphs.\n",
      "Home-page: http://github.com/tensorflow/text\n",
      "Author: Google Inc.\n",
      "Author-email: packages@tensorflow.org\n",
      "License: Apache 2.0\n",
      "Location: c:\\users\\tapiw\\appdata\\roaming\\python\\python310\\site-packages\n",
      "Requires: tensorflow, tensorflow-hub\n",
      "Required-by: \n",
      "Note: you may need to restart the kernel to use updated packages.\n"
     ]
    }
   ],
   "source": [
    "pip show tensorflow tensorflow-hub tensorflow-text"
   ]
  },
  {
   "cell_type": "code",
   "execution_count": null,
   "metadata": {},
   "outputs": [],
   "source": [
    "#pip install protobuf==3.20.3\n"
   ]
  },
  {
   "cell_type": "code",
   "execution_count": null,
   "metadata": {},
   "outputs": [],
   "source": [
    "#pip uninstall tensorflow tensorflow-intel tensorflow-serving-api tensorflow-hub tensorflow-text -y\n"
   ]
  },
  {
   "cell_type": "code",
   "execution_count": null,
   "metadata": {},
   "outputs": [],
   "source": [
    "#pip cache purge"
   ]
  },
  {
   "cell_type": "code",
   "execution_count": null,
   "metadata": {},
   "outputs": [],
   "source": [
    "#!python -m pip install --upgrade pip setuptools\n"
   ]
  },
  {
   "cell_type": "code",
   "execution_count": 37,
   "metadata": {},
   "outputs": [],
   "source": [
    "import tensorflow as tf\n",
    "import tensorflow_hub as hub\n",
    "import tensorflow_text as text\n",
    "from tensorflow.keras.layers import Input"
   ]
  },
  {
   "cell_type": "code",
   "execution_count": 38,
   "metadata": {},
   "outputs": [],
   "source": [
    "bert_preprocess = hub.KerasLayer(\"https://tfhub.dev/tensorflow/bert_en_uncased_preprocess/3\")\n",
    "bert_encoder = hub.KerasLayer(\"https://tfhub.dev/tensorflow/bert_en_uncased_L-12_H-768_A-12/4\")"
   ]
  },
  {
   "cell_type": "markdown",
   "metadata": {},
   "source": [
    "Model Building"
   ]
  },
  {
   "cell_type": "code",
   "execution_count": 39,
   "metadata": {},
   "outputs": [
    {
     "name": "stdout",
     "output_type": "stream",
     "text": [
      "Model: \"model\"\n",
      "__________________________________________________________________________________________________\n",
      " Layer (type)                   Output Shape         Param #     Connected to                     \n",
      "==================================================================================================\n",
      " text (InputLayer)              [(None,)]            0           []                               \n",
      "                                                                                                  \n",
      " keras_layer (KerasLayer)       {'input_mask': (Non  0           ['text[0][0]']                   \n",
      "                                e, 128),                                                          \n",
      "                                 'input_word_ids':                                                \n",
      "                                (None, 128),                                                      \n",
      "                                 'input_type_ids':                                                \n",
      "                                (None, 128)}                                                      \n",
      "                                                                                                  \n",
      " keras_layer_1 (KerasLayer)     {'sequence_output':  109482241   ['keras_layer[0][0]',            \n",
      "                                 (None, 128, 768),                'keras_layer[0][1]',            \n",
      "                                 'pooled_output': (               'keras_layer[0][2]']            \n",
      "                                None, 768),                                                       \n",
      "                                 'default': (None,                                                \n",
      "                                768),                                                             \n",
      "                                 'encoder_outputs':                                               \n",
      "                                 [(None, 128, 768),                                               \n",
      "                                 (None, 128, 768),                                                \n",
      "                                 (None, 128, 768),                                                \n",
      "                                 (None, 128, 768),                                                \n",
      "                                 (None, 128, 768),                                                \n",
      "                                 (None, 128, 768),                                                \n",
      "                                 (None, 128, 768),                                                \n",
      "                                 (None, 128, 768),                                                \n",
      "                                 (None, 128, 768),                                                \n",
      "                                 (None, 128, 768),                                                \n",
      "                                 (None, 128, 768),                                                \n",
      "                                 (None, 128, 768)]}                                               \n",
      "                                                                                                  \n",
      " gru (GRU)                      (None, 128)          344832      ['keras_layer_1[0][14]']         \n",
      "                                                                                                  \n",
      " dropout (Dropout)              (None, 128)          0           ['gru[0][0]']                    \n",
      "                                                                                                  \n",
      " dense (Dense)                  (None, 64)           8256        ['dropout[0][0]']                \n",
      "                                                                                                  \n",
      " dense_1 (Dense)                (None, 7)            455         ['dense[0][0]']                  \n",
      "                                                                                                  \n",
      "==================================================================================================\n",
      "Total params: 109,835,784\n",
      "Trainable params: 353,543\n",
      "Non-trainable params: 109,482,241\n",
      "__________________________________________________________________________________________________\n"
     ]
    }
   ],
   "source": [
    "text_input = tf.keras.layers.Input(shape=(), dtype=tf.string, name='text')\n",
    "preprocessed_text = bert_preprocess(text_input)\n",
    "outputs = bert_encoder(preprocessed_text)\n",
    "\n",
    "sequence_output = outputs['sequence_output']\n",
    "\n",
    "\n",
    "gru = tf.keras.layers.GRU(128, return_sequences=False)(sequence_output)\n",
    "dropout1 = tf.keras.layers.Dropout(0.3)(gru)\n",
    "dense1 = tf.keras.layers.Dense(64, activation='relu')(dropout1) \n",
    "x = tf.keras.layers.Dense(7, activation='softmax')(dense1) \n",
    "\n",
    "model = tf.keras.Model(inputs=[text_input], outputs=x)\n",
    "\n",
    "model.summary()"
   ]
  },
  {
   "cell_type": "code",
   "execution_count": 40,
   "metadata": {},
   "outputs": [
    {
     "name": "stdout",
     "output_type": "stream",
     "text": [
      "Epoch 1/5\n",
      "680/680 [==============================] - 9317s 14s/step - loss: 0.8780 - accuracy: 0.6545\n",
      "Epoch 2/5\n",
      "680/680 [==============================] - 8273s 12s/step - loss: 0.5332 - accuracy: 0.7919\n",
      "Epoch 3/5\n",
      "680/680 [==============================] - 8069s 12s/step - loss: 0.3837 - accuracy: 0.8498\n",
      "Epoch 4/5\n",
      "680/680 [==============================] - 8040s 12s/step - loss: 0.2903 - accuracy: 0.8881\n",
      "Epoch 5/5\n",
      "680/680 [==============================] - 8542s 13s/step - loss: 0.2199 - accuracy: 0.9173\n"
     ]
    },
    {
     "data": {
      "text/plain": [
       "<keras.callbacks.History at 0x21442e35ab0>"
      ]
     },
     "execution_count": 40,
     "metadata": {},
     "output_type": "execute_result"
    }
   ],
   "source": [
    "model.compile(optimizer='adam',\n",
    "              loss='sparse_categorical_crossentropy',\n",
    "              metrics=['accuracy'])\n",
    "\n",
    "model.fit(balanced_x_train,\n",
    "          balanced_y_train,\n",
    "          epochs=5,\n",
    "          batch_size=64  )"
   ]
  },
  {
   "cell_type": "markdown",
   "metadata": {},
   "source": [
    "Inference"
   ]
  },
  {
   "cell_type": "code",
   "execution_count": 41,
   "metadata": {},
   "outputs": [
    {
     "name": "stdout",
     "output_type": "stream",
     "text": [
      "498/498 [==============================] - 2938s 6s/step\n",
      "Classification Report (Test Set):\n",
      "               precision    recall  f1-score   support\n",
      "\n",
      "           0       0.78      0.83      0.81      1157\n",
      "           1       0.86      0.72      0.78       864\n",
      "           2       0.74      0.71      0.73      4608\n",
      "           3       0.93      0.93      0.93      4993\n",
      "           4       0.55      0.70      0.61       370\n",
      "           5       0.65      0.70      0.68       819\n",
      "           6       0.66      0.68      0.67      3102\n",
      "\n",
      "    accuracy                           0.78     15913\n",
      "   macro avg       0.74      0.75      0.74     15913\n",
      "weighted avg       0.79      0.78      0.78     15913\n",
      "\n"
     ]
    }
   ],
   "source": [
    "y_pred_test = model.predict(X_test)\n",
    "y_pred_test_classes = np.argmax(y_pred_test, axis=1)\n",
    "\n",
    "print(\"Classification Report (Test Set):\\n\", classification_report(y_test, y_pred_test_classes))"
   ]
  },
  {
   "cell_type": "code",
   "execution_count": 42,
   "metadata": {},
   "outputs": [
    {
     "data": {
      "text/plain": [
       "<Figure size 800x600 with 0 Axes>"
      ]
     },
     "metadata": {},
     "output_type": "display_data"
    },
    {
     "data": {
      "image/png": "[encoded data removed]",
      "text/plain": [
       "<Figure size 640x480 with 2 Axes>"
      ]
     },
     "metadata": {},
     "output_type": "display_data"
    }
   ],
   "source": [
    "cm = confusion_matrix(y_test, y_pred_test_classes)\n",
    "plt.figure(figsize=(8, 6))\n",
    "disp = ConfusionMatrixDisplay(cm, display_labels=np.unique(y_test))\n",
    "disp.plot(cmap='Blues')\n",
    "plt.title('Confusion Matrix')\n",
    "plt.show()"
   ]
  },
  {
   "cell_type": "markdown",
   "metadata": {},
   "source": [
    "Save the model"
   ]
  },
  {
   "cell_type": "code",
   "execution_count": 43,
   "metadata": {},
   "outputs": [],
   "source": [
    "model.save('mental_health_model.h5')"
   ]
  }
 ],
 "metadata": {
  "kernelspec": {
   "display_name": "Python 3",
   "language": "python",
   "name": "python3"
  },
  "language_info": {
   "codemirror_mode": {
    "name": "ipython",
    "version": 3
   },
   "file_extension": ".py",
   "mimetype": "text/x-python",
   "name": "python",
   "nbconvert_exporter": "python",
   "pygments_lexer": "ipython3",
   "version": "3.10.8"
  }
 },
 "nbformat": 4,
 "nbformat_minor": 2
}
